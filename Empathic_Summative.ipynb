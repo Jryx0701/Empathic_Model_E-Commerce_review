{
 "cells": [
  {
   "cell_type": "code",
   "execution_count": 159,
   "metadata": {},
   "outputs": [
    {
     "data": {
      "text/html": [
       "<div>\n",
       "<style scoped>\n",
       "    .dataframe tbody tr th:only-of-type {\n",
       "        vertical-align: middle;\n",
       "    }\n",
       "\n",
       "    .dataframe tbody tr th {\n",
       "        vertical-align: top;\n",
       "    }\n",
       "\n",
       "    .dataframe thead th {\n",
       "        text-align: right;\n",
       "    }\n",
       "</style>\n",
       "<table border=\"1\" class=\"dataframe\">\n",
       "  <thead>\n",
       "    <tr style=\"text-align: right;\">\n",
       "      <th></th>\n",
       "      <th>review</th>\n",
       "      <th>emotion_label</th>\n",
       "    </tr>\n",
       "  </thead>\n",
       "  <tbody>\n",
       "    <tr>\n",
       "      <th>0</th>\n",
       "      <td>Nice soft tee for my husband for Father's Day....</td>\n",
       "      <td>0</td>\n",
       "    </tr>\n",
       "    <tr>\n",
       "      <th>1</th>\n",
       "      <td>The shirt arrived rather quickly after orderin...</td>\n",
       "      <td>4</td>\n",
       "    </tr>\n",
       "    <tr>\n",
       "      <th>2</th>\n",
       "      <td>I have purchased 3 tshirts from Teepublic and ...</td>\n",
       "      <td>1</td>\n",
       "    </tr>\n",
       "    <tr>\n",
       "      <th>3</th>\n",
       "      <td>Our order was perfect. Thank you</td>\n",
       "      <td>0</td>\n",
       "    </tr>\n",
       "    <tr>\n",
       "      <th>4</th>\n",
       "      <td>This was my first purchase with tee public and...</td>\n",
       "      <td>1</td>\n",
       "    </tr>\n",
       "  </tbody>\n",
       "</table>\n",
       "</div>"
      ],
      "text/plain": [
       "                                              review  emotion_label\n",
       "0  Nice soft tee for my husband for Father's Day....              0\n",
       "1  The shirt arrived rather quickly after orderin...              4\n",
       "2  I have purchased 3 tshirts from Teepublic and ...              1\n",
       "3                   Our order was perfect. Thank you              0\n",
       "4  This was my first purchase with tee public and...              1"
      ]
     },
     "execution_count": 159,
     "metadata": {},
     "output_type": "execute_result"
    }
   ],
   "source": [
    "import numpy as np \n",
    "import pandas as pd \n",
    "import matplotlib.pyplot as plt\n",
    "from sklearn.feature_extraction.text import TfidfVectorizer\n",
    "from sklearn.model_selection import train_test_split\n",
    "from sklearn.linear_model import LogisticRegression\n",
    "from sklearn.metrics import accuracy_score\n",
    "from sklearn import tree\n",
    "from imblearn.over_sampling import SMOTE\n",
    "\n",
    "df = pd.read_csv('shopping_reviews_with_emotions_cleaned.csv')\n",
    "df.head()"
   ]
  },
  {
   "cell_type": "code",
   "execution_count": 160,
   "metadata": {},
   "outputs": [
    {
     "data": {
      "text/plain": [
       "emotion_label\n",
       "7    11885\n",
       "0     6539\n",
       "1     2050\n",
       "3     1953\n",
       "6      887\n",
       "4      397\n",
       "5       59\n",
       "Name: count, dtype: int64"
      ]
     },
     "execution_count": 160,
     "metadata": {},
     "output_type": "execute_result"
    }
   ],
   "source": [
    "df['emotion_label'].value_counts()"
   ]
  },
  {
   "cell_type": "code",
   "execution_count": 161,
   "metadata": {},
   "outputs": [
    {
     "data": {
      "image/png": "[encoded data removed]",
      "text/plain": [
       "<Figure size 640x480 with 1 Axes>"
      ]
     },
     "metadata": {},
     "output_type": "display_data"
    }
   ],
   "source": [
    "import seaborn as sns\n",
    "\n",
    "df['total'] = df.groupby('emotion_label')['emotion_label'].transform('count')\n",
    "sns.barplot(data=df, x='emotion_label', y='total')\n",
    "# Rotate the x-axis labels\n",
    "plt.xticks(rotation=45, ha='right')  # Rotate 45 degrees, align right\n",
    "# Display the plot\n",
    "plt.tight_layout() # Improves label fitting\n",
    "plt.show()"
   ]
  },
  {
   "cell_type": "markdown",
   "metadata": {},
   "source": [
    "Training The Model\n",
    "1. Text Processing\n",
    "- Tokenization\n",
    "- Lowercasing\n",
    "- Removing Punctuation\n",
    "- Stopwords Removal (optional)\n",
    "2. Feature Extraction\n",
    "- TF-IDF\n",
    "- SMOTE for balancing imbalance data\n",
    "3. Model Training\n",
    "- Decision Tree\n"
   ]
  },
  {
   "cell_type": "markdown",
   "metadata": {},
   "source": [
    "Cleaning the Data"
   ]
  },
  {
   "cell_type": "code",
   "execution_count": 162,
   "metadata": {},
   "outputs": [
    {
     "name": "stderr",
     "output_type": "stream",
     "text": [
      "[nltk_data] Downloading package wordnet to\n",
      "[nltk_data]     C:\\Users\\gamin\\AppData\\Roaming\\nltk_data...\n",
      "[nltk_data]   Package wordnet is already up-to-date!\n",
      "[nltk_data] Downloading package stopwords to\n",
      "[nltk_data]     C:\\Users\\gamin\\AppData\\Roaming\\nltk_data...\n",
      "[nltk_data]   Package stopwords is already up-to-date!\n",
      "[nltk_data] Downloading package punkt_tab to\n",
      "[nltk_data]     C:\\Users\\gamin\\AppData\\Roaming\\nltk_data...\n",
      "[nltk_data]   Package punkt_tab is already up-to-date!\n"
     ]
    }
   ],
   "source": [
    "import nltk\n",
    "import re\n",
    "from nltk.tokenize import word_tokenize\n",
    "from nltk.corpus import stopwords\n",
    "from nltk.stem import PorterStemmer\n",
    "from nltk.stem import WordNetLemmatizer\n",
    "wnl = WordNetLemmatizer()\n",
    "\n",
    "nltk.download('wordnet')\n",
    "nltk.download('stopwords')\n",
    "nltk.download('punkt_tab')\n",
    "\n",
    "stemmer = PorterStemmer()\n",
    "stop_words = set(stopwords.words('english'))\n",
    "\n",
    "\n",
    "def clean_text(text):\n",
    "    if not isinstance(text, str):\n",
    "        return \"\"\n",
    "    text = text.lower()\n",
    "    text = re.sub(r'\\d+', '', text)\n",
    "    text = re.sub(r'[^\\w\\s]', '', text)\n",
    "    text = re.sub(r'\\s+', ' ', text).strip()\n",
    "    words = text.split()\n",
    "    words = [wnl.lemmatize(word) for word in words if word not in stop_words]\n",
    "    return ' '.join(words)"
   ]
  },
  {
   "cell_type": "code",
   "execution_count": 163,
   "metadata": {},
   "outputs": [
    {
     "data": {
      "text/html": [
       "<div>\n",
       "<style scoped>\n",
       "    .dataframe tbody tr th:only-of-type {\n",
       "        vertical-align: middle;\n",
       "    }\n",
       "\n",
       "    .dataframe tbody tr th {\n",
       "        vertical-align: top;\n",
       "    }\n",
       "\n",
       "    .dataframe thead th {\n",
       "        text-align: right;\n",
       "    }\n",
       "</style>\n",
       "<table border=\"1\" class=\"dataframe\">\n",
       "  <thead>\n",
       "    <tr style=\"text-align: right;\">\n",
       "      <th></th>\n",
       "      <th>review_cleaned</th>\n",
       "      <th>emotion_label</th>\n",
       "    </tr>\n",
       "  </thead>\n",
       "  <tbody>\n",
       "    <tr>\n",
       "      <th>0</th>\n",
       "      <td>nice soft tee husband father daybright attract...</td>\n",
       "      <td>0</td>\n",
       "    </tr>\n",
       "    <tr>\n",
       "      <th>1</th>\n",
       "      <td>shirt arrived rather quickly ordering however ...</td>\n",
       "      <td>4</td>\n",
       "    </tr>\n",
       "    <tr>\n",
       "      <th>2</th>\n",
       "      <td>purchased tshirts teepublic extremely happy pu...</td>\n",
       "      <td>1</td>\n",
       "    </tr>\n",
       "    <tr>\n",
       "      <th>3</th>\n",
       "      <td>order perfect thank</td>\n",
       "      <td>0</td>\n",
       "    </tr>\n",
       "    <tr>\n",
       "      <th>4</th>\n",
       "      <td>first purchase tee public im happy rainbow bri...</td>\n",
       "      <td>1</td>\n",
       "    </tr>\n",
       "    <tr>\n",
       "      <th>...</th>\n",
       "      <td>...</td>\n",
       "      <td>...</td>\n",
       "    </tr>\n",
       "    <tr>\n",
       "      <th>23765</th>\n",
       "      <td>ordered shirt granddaughtershe play annieand s...</td>\n",
       "      <td>7</td>\n",
       "    </tr>\n",
       "    <tr>\n",
       "      <th>23766</th>\n",
       "      <td>shirt wasas describedcommunication purchase de...</td>\n",
       "      <td>7</td>\n",
       "    </tr>\n",
       "    <tr>\n",
       "      <th>23767</th>\n",
       "      <td>quick ship great price wasnt first order</td>\n",
       "      <td>7</td>\n",
       "    </tr>\n",
       "    <tr>\n",
       "      <th>23768</th>\n",
       "      <td>shirt arrived time seems smidge larger expecte...</td>\n",
       "      <td>7</td>\n",
       "    </tr>\n",
       "    <tr>\n",
       "      <th>23769</th>\n",
       "      <td>easy order item arrived christmas promised shi...</td>\n",
       "      <td>7</td>\n",
       "    </tr>\n",
       "  </tbody>\n",
       "</table>\n",
       "<p>23770 rows × 2 columns</p>\n",
       "</div>"
      ],
      "text/plain": [
       "                                          review_cleaned  emotion_label\n",
       "0      nice soft tee husband father daybright attract...              0\n",
       "1      shirt arrived rather quickly ordering however ...              4\n",
       "2      purchased tshirts teepublic extremely happy pu...              1\n",
       "3                                    order perfect thank              0\n",
       "4      first purchase tee public im happy rainbow bri...              1\n",
       "...                                                  ...            ...\n",
       "23765  ordered shirt granddaughtershe play annieand s...              7\n",
       "23766  shirt wasas describedcommunication purchase de...              7\n",
       "23767           quick ship great price wasnt first order              7\n",
       "23768  shirt arrived time seems smidge larger expecte...              7\n",
       "23769  easy order item arrived christmas promised shi...              7\n",
       "\n",
       "[23770 rows x 2 columns]"
      ]
     },
     "execution_count": 163,
     "metadata": {},
     "output_type": "execute_result"
    }
   ],
   "source": [
    "df['review_cleaned'] = df['review'].apply(clean_text)\n",
    "data_final = df[['review_cleaned','emotion_label']]\n",
    "data_final"
   ]
  },
  {
   "cell_type": "markdown",
   "metadata": {},
   "source": [
    "Model Training"
   ]
  },
  {
   "cell_type": "code",
   "execution_count": 164,
   "metadata": {},
   "outputs": [
    {
     "name": "stdout",
     "output_type": "stream",
     "text": [
      "Classification Report:\n",
      "              precision    recall  f1-score   support\n",
      "\n",
      "           0       0.90      0.81      0.85      1938\n",
      "           1       0.73      0.77      0.75       569\n",
      "           3       0.83      0.77      0.80       619\n",
      "           4       0.26      0.20      0.23       128\n",
      "           5       0.50      0.41      0.45        17\n",
      "           6       0.36      0.32      0.34       251\n",
      "           7       0.80      0.86      0.83      3609\n",
      "\n",
      "    accuracy                           0.80      7131\n",
      "   macro avg       0.63      0.59      0.61      7131\n",
      "weighted avg       0.80      0.80      0.80      7131\n",
      "\n"
     ]
    }
   ],
   "source": [
    "from sklearn.tree import DecisionTreeClassifier\n",
    "from sklearn.metrics import classification_report\n",
    "from sklearn.preprocessing import StandardScaler\n",
    "from imblearn.over_sampling import SMOTE\n",
    "\n",
    "vectorizer = TfidfVectorizer(stop_words = 'english')\n",
    "review_x = vectorizer.fit_transform(data_final['review_cleaned'])\n",
    "label_y = data_final['emotion_label']\n",
    "\n",
    "X_train, X_test, y_train, y_test = train_test_split(review_x,label_y, test_size = 0.3, random_state= 42)\n",
    "#--------------apply DecisionTreeClassifier-----------\n",
    "tree = DecisionTreeClassifier()\n",
    "tree.fit(X_train,y_train)\n",
    "#--------------predict the data-----------------------\n",
    "y_pred = tree.predict(X_test)\n",
    "#-------------Accuracy Score of the dataset-----------------------\n",
    "print('Classification Report:')\n",
    "print(classification_report(y_test,y_pred))"
   ]
  },
  {
   "cell_type": "code",
   "execution_count": null,
   "metadata": {},
   "outputs": [
    {
     "name": "stdout",
     "output_type": "stream",
     "text": [
      "Input String: This was my first purchase, the shipping was on time and fast and the quality of the item are amazing. Thank you\n",
      "Prediction: gratitude\n"
     ]
    }
   ],
   "source": [
    "#-------------sample prediction-----------------------\n",
    "def prediction_model(text):\n",
    "    emotion_labels = {\n",
    "    0: \"gratitude\",\n",
    "    1: \"joy\",\n",
    "    2: \"satisfaction\",\n",
    "    3: \"disappointment\",\n",
    "    4: \"disapproval\",\n",
    "    5: \"annoyance\",\n",
    "    6: \"approval\",\n",
    "    7: \"neutral\"\n",
    "    }   \n",
    "    cleand_text = clean_text(text)\n",
    "    vc_cleaned = vectorizer.transform([cleand_text])\n",
    "    y_prediction_real = tree.predict(vc_cleaned)\n",
    "    return emotion_labels[y_prediction_real[0]]\n",
    "\n",
    "Inputted_string = \"This was my first purchase, the shipping was on time and fast and the quality of the item are amazing. Thank you\"\n",
    "pred = prediction_model(Inputted_string)\n",
    "print(f'Input String: {Inputted_string}')\n",
    "print(f\"Prediction: {pred}\")"
   ]
  }
 ],
 "metadata": {
  "kernelspec": {
   "display_name": "base",
   "language": "python",
   "name": "python3"
  },
  "language_info": {
   "codemirror_mode": {
    "name": "ipython",
    "version": 3
   },
   "file_extension": ".py",
   "mimetype": "text/x-python",
   "name": "python",
   "nbconvert_exporter": "python",
   "pygments_lexer": "ipython3",
   "version": "3.12.4"
  }
 },
 "nbformat": 4,
 "nbformat_minor": 2
}
